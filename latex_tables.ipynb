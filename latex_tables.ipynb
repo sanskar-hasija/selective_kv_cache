{
 "cells": [
  {
   "cell_type": "code",
   "execution_count": null,
   "metadata": {},
   "outputs": [],
   "source": [
    "import matplotlib.pyplot as plt\n",
    "import seaborn as sns\n",
    "import pandas as pd\n",
    "import os\n",
    "os.makedirs('tables/performance', exist_ok=True)\n",
    "\n",
    "import warnings\n",
    "warnings.filterwarnings(\"ignore\")"
   ]
  },
  {
   "cell_type": "code",
   "execution_count": null,
   "metadata": {},
   "outputs": [],
   "source": [
    "df = pd.read_csv(\"experiment_results.csv\")\n",
    "df['layer_strateg_map'] = df['layer_strategy'].map({'zero': 0, '1/4': 1, '1/2': 2, '3/4': 3, 'all': 4})\n",
    "df = df.sort_values(by = ['output_tokens','layer_strateg_map','q_bits'])\n",
    "df = df.query('output_tokens != 20000')\n",
    "df = df.drop(columns=['layer_strateg_map']).reset_index(drop=True)\n",
    "df"
   ]
  },
  {
   "cell_type": "code",
   "execution_count": null,
   "metadata": {},
   "outputs": [],
   "source": [
    "pivot_df = df.copy()\n",
    "def strategy_q_bits(row):\n",
    "    if row['layer_strategy'] == 'zero':\n",
    "        return 'No Quant'\n",
    "    return f'{row[\"layer_strategy\"]} ({int(row[\"q_bits\"])} bits)'\n",
    "pivot_df['strategy'] = pivot_df.apply(strategy_q_bits, axis=1)\n",
    "\n",
    "# convert table to latex\n",
    "pivot_df = pivot_df.pivot(index='output_tokens', columns='strategy', values='vram_consumption')\n",
    "pivot_df = pivot_df.astype(int)\n",
    "pivot_df = pivot_df.reset_index()\n",
    "pivot_df = pivot_df.rename(columns={'output_tokens': 'Output Tokens'})\n",
    "pivot_df = pivot_df.rename_axis(None, axis=1)\n",
    "pivot_df = pivot_df.rename_axis(None, axis=0)\n",
    "pivot_df.to_latex('tables/performance/vram_consumption.tex', index=False)\n"
   ]
  },
  {
   "cell_type": "code",
   "execution_count": null,
   "metadata": {},
   "outputs": [],
   "source": [
    "print(pivot_df.to_string())"
   ]
  },
  {
   "cell_type": "code",
   "execution_count": null,
   "metadata": {},
   "outputs": [],
   "source": [
    "pivot_df = df.copy()\n",
    "def strategy_q_bits(row):\n",
    "    if row['layer_strategy'] == 'zero':\n",
    "        return 'No Quant'\n",
    "    return f'{row[\"layer_strategy\"]} ({int(row[\"q_bits\"])} bits)'\n",
    "pivot_df['strategy'] = pivot_df.apply(strategy_q_bits, axis=1)\n",
    "\n",
    "pivot_df = pivot_df.pivot(index='output_tokens', columns='strategy', values='inference_time')\n",
    "pivot_df = round(pivot_df, 2)\n",
    "pivot_df = pivot_df.reset_index()\n",
    "pivot_df = pivot_df.rename(columns={'output_tokens': 'Output Tokens'})\n",
    "pivot_df = pivot_df.rename_axis(None, axis=1)\n",
    "pivot_df = pivot_df.rename_axis(None, axis=0)\n",
    "pivot_df.to_latex('tables/performance/inference_consumption.tex', index=False)\n",
    "pivot_df"
   ]
  },
  {
   "cell_type": "code",
   "execution_count": null,
   "metadata": {},
   "outputs": [],
   "source": [
    "print(pivot_df.to_string())"
   ]
  },
  {
   "cell_type": "code",
   "execution_count": null,
   "metadata": {},
   "outputs": [],
   "source": [
    "def map_experiment(experiment):\n",
    "    parts = experiment.split('_')\n",
    "    if \"bits\" in parts[-1]:\n",
    "        del parts[-1]\n",
    "    \n",
    "    if 'zero' in experiment:\n",
    "        return {\n",
    "            'layer_strategy': 'zero',\n",
    "            'layer_set': np.nan,\n",
    "            'num_bits': np.nan,\n",
    "            'experiment_description': f'Model with no quantization'\n",
    "        }\n",
    "    elif 'all' in experiment:\n",
    "        return {\n",
    "            'layer_strategy': 'all',\n",
    "            'layer_set': np.nan,\n",
    "            'num_bits': parts[-1],\n",
    "            'experiment_description': f'Model with all layers quantized to {parts[-1]} bits'\n",
    "        }\n",
    "    else:\n",
    "        layer_strategy = f\"{parts[-4]}_{parts[-3]}\"\n",
    "        layer_set = int(parts[-2])\n",
    "        num_bits = parts[-1]\n",
    "        \n",
    "        layer_set_description = {\n",
    "            1: 'first quarter',\n",
    "            2: 'second quarter',\n",
    "            3: 'third quarter',\n",
    "            4: 'fourth quarter'\n",
    "        }\n",
    "        \n",
    "        return {\n",
    "            'layer_strategy': layer_strategy,\n",
    "            'layer_set': layer_set_description[layer_set],\n",
    "            'num_bits': num_bits,\n",
    "            'experiment_description': f'Model with {layer_strategy} of layers ({layer_set_description[layer_set]}) quantized to {num_bits} bits'\n",
    "        }\n",
    "    \n",
    "\n",
    "benchmark_datasets = {\n",
    "    \"Multi-doc QA\": [\n",
    "        \"hotpotqa\",\n",
    "        \"2wikimqa\",\n",
    "        \"musique\",\n",
    "        \"dureader\"\n",
    "    ],\n",
    "    \"Single-doc QA\": [\n",
    "        \"multifieldqa_en\",\n",
    "        \"multifieldqa_zh\",\n",
    "        \"narrativeqa\",\n",
    "        \"qasper\"\n",
    "    ],\n",
    "    \"Summarization\": [\n",
    "        \"gov_report\",\n",
    "        \"qmsum\",\n",
    "        \"multi_news\",\n",
    "        \"vcsum\"\n",
    "    ],\n",
    "    \"Few shot\": [\n",
    "        \"triviaqa\",\n",
    "        \"samsum\",\n",
    "        \"trec\",\n",
    "        \"lsht\"\n",
    "    ],\n",
    "    \"Synthetic\": [\n",
    "        \"passage_retrieval_en\",\n",
    "        \"passage_count\",\n",
    "        \"passage_retrieval_zh\"\n",
    "    ],\n",
    "    \"Code\": [\n",
    "        \"lcc\",\n",
    "        \"repobench-p\"\n",
    "    ]\n",
    "}\n",
    "LONG_BENCH_COLS = list(benchmark_datasets.keys())\n",
    "data = pd.read_csv(\"performance_detailed_long_bench.csv\")\n",
    "\n",
    "for k, v in benchmark_datasets.items():\n",
    "    data[k] = data[v].mean(axis=1)\n",
    "\n",
    "data = data[['experiment_description', 'layer_strategy','layer_set','num_bits'] + list(benchmark_datasets.keys()) ]\n",
    "\n",
    "data['avg_score'] =  data[benchmark_datasets.keys()].mean(axis = 1)\n",
    "data = data.sort_values(by='avg_score', ascending=False)\n",
    "print(data.to_string())\n"
   ]
  },
  {
   "cell_type": "code",
   "execution_count": null,
   "metadata": {},
   "outputs": [],
   "source": [
    "data.sort_values(by = ['layer_strategy','layer_set','num_bits'],)"
   ]
  },
  {
   "cell_type": "code",
   "execution_count": null,
   "metadata": {},
   "outputs": [],
   "source": [
    "\n",
    "\n",
    "data['layer_strateg_map'] = data['layer_strategy'].map({'zero': 0, '1_4': 1, '1_2': 2, '3_4': 3, 'all': 4})\n",
    "data['layer_set_map'] = data['layer_set'].map({'first quarter': 1, 'second quarter': 2, 'third quarter': 3, 'fourth quarter': 4})\n",
    "data = data.sort_values(by = ['layer_strateg_map','layer_set_map','num_bits'])\n",
    "data = data.drop(columns=['layer_strateg_map','layer_set_map', 'experiment_description']).reset_index(drop=True)\n",
    "data.layer_set.fillna(\"all layers\", inplace=True)\n",
    "data.num_bits.fillna(\"No Quant\", inplace=True)\n",
    "data.rename(columns= {'avg_score': 'Mean Score'}, inplace=True)\n",
    "\n",
    "## round to 2 decimal places\n",
    "data = data.round(2)\n",
    "\n",
    "print(data.to_string())\n",
    "\n",
    "\n",
    "data.to_latex('tables/performance/long_benchmarks.tex', index=False)\n"
   ]
  },
  {
   "cell_type": "code",
   "execution_count": null,
   "metadata": {},
   "outputs": [],
   "source": [
    "detailed = pd.read_csv(\"performance_detailed_long_bench.csv\")\n",
    "detailed = detailed.drop(columns=['experiment_description'])\n",
    "\n",
    "detailed['layer_strateg_map'] = detailed['layer_strategy'].map({'zero': 0, '1_4': 1, '1_2': 2, '3_4': 3, 'all': 4})\n",
    "detailed['layer_set_map'] = detailed['layer_set'].map({'first quarter': 1, 'second quarter': 2, 'third quarter': 3, 'fourth quarter': 4})\n",
    "detailed = detailed.sort_values(by = ['layer_strateg_map','layer_set_map','num_bits'])\n",
    "detailed = detailed.drop(columns=['layer_strateg_map','layer_set_map'])\n",
    "\n",
    "detailed = detailed.round(2)\n",
    "detailed = detailed.rename(columns={'experiment_description': 'Experiment Description'})\n",
    "detailed = detailed.drop(columns= [  'avg_score', 'model', 'score_diff',\n",
    "       'cumulative_score_diff', 'score_percent_diff',\n",
    "       'cumulative_score_percent_diff'])\n",
    "detailed.to_latex('tables/performance/detailed_long_benchmarks.tex', index=False)"
   ]
  },
  {
   "cell_type": "code",
   "execution_count": null,
   "metadata": {},
   "outputs": [],
   "source": [
    "print(detailed.to_string())"
   ]
  }
 ],
 "metadata": {
  "kernelspec": {
   "display_name": "Python 3.9 (tensorflow)",
   "language": "python",
   "name": "tensorflow"
  },
  "language_info": {
   "codemirror_mode": {
    "name": "ipython",
    "version": 3
   },
   "file_extension": ".py",
   "mimetype": "text/x-python",
   "name": "python",
   "nbconvert_exporter": "python",
   "pygments_lexer": "ipython3",
   "version": "3.9.13"
  }
 },
 "nbformat": 4,
 "nbformat_minor": 2
}
